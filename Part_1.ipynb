{
 "cells": [
  {
   "cell_type": "code",
   "execution_count": 87,
   "metadata": {},
   "outputs": [],
   "source": [
    "import json\n",
    "import numpy as np\n",
    "import pandas as pd\n",
    "from sklearn.metrics import mean_squared_error\n",
    "import matplotlib.pyplot as plt"
   ]
  },
  {
   "cell_type": "markdown",
   "metadata": {},
   "source": [
    "## Loading datasets"
   ]
  },
  {
   "cell_type": "code",
   "execution_count": 2,
   "metadata": {},
   "outputs": [],
   "source": [
    "# load and preview the data\n",
    "def json_to_df(path):\n",
    "    data = []\n",
    "    with open(path) as f:\n",
    "        for line in f:\n",
    "            data.append(json.loads(line))\n",
    "    return pd.DataFrame.from_dict(data)"
   ]
  },
  {
   "cell_type": "code",
   "execution_count": 3,
   "metadata": {},
   "outputs": [],
   "source": [
    "business_df = json_to_df('yelp_dataset/yelp_academic_dataset_business.json')\n",
    "review_df = json_to_df('yelp_dataset/yelp_academic_dataset_review.json')\n",
    "user_df = json_to_df('yelp_dataset/yelp_academic_dataset_user.json')\n",
    "checkin_df = json_to_df('yelp_dataset/yelp_academic_dataset_checkin.json')\n",
    "tip_df = json_to_df('yelp_dataset/yelp_academic_dataset_tip.json')"
   ]
  },
  {
   "cell_type": "code",
   "execution_count": 4,
   "metadata": {},
   "outputs": [
    {
     "data": {
      "text/html": [
       "<div>\n",
       "<style scoped>\n",
       "    .dataframe tbody tr th:only-of-type {\n",
       "        vertical-align: middle;\n",
       "    }\n",
       "\n",
       "    .dataframe tbody tr th {\n",
       "        vertical-align: top;\n",
       "    }\n",
       "\n",
       "    .dataframe thead th {\n",
       "        text-align: right;\n",
       "    }\n",
       "</style>\n",
       "<table border=\"1\" class=\"dataframe\">\n",
       "  <thead>\n",
       "    <tr style=\"text-align: right;\">\n",
       "      <th></th>\n",
       "      <th>address</th>\n",
       "      <th>attributes</th>\n",
       "      <th>business_id</th>\n",
       "      <th>categories</th>\n",
       "      <th>city</th>\n",
       "      <th>hours</th>\n",
       "      <th>is_open</th>\n",
       "      <th>latitude</th>\n",
       "      <th>longitude</th>\n",
       "      <th>name</th>\n",
       "      <th>neighborhood</th>\n",
       "      <th>postal_code</th>\n",
       "      <th>review_count</th>\n",
       "      <th>stars</th>\n",
       "      <th>state</th>\n",
       "    </tr>\n",
       "  </thead>\n",
       "  <tbody>\n",
       "    <tr>\n",
       "      <th>0</th>\n",
       "      <td>1314 44 Avenue NE</td>\n",
       "      <td>{'BikeParking': 'False', 'BusinessAcceptsCredi...</td>\n",
       "      <td>Apn5Q_b6Nz61Tq4XzPdf9A</td>\n",
       "      <td>Tours, Breweries, Pizza, Restaurants, Food, Ho...</td>\n",
       "      <td>Calgary</td>\n",
       "      <td>{'Monday': '8:30-17:0', 'Tuesday': '11:0-21:0'...</td>\n",
       "      <td>1</td>\n",
       "      <td>51.091813</td>\n",
       "      <td>-114.031675</td>\n",
       "      <td>Minhas Micro Brewery</td>\n",
       "      <td></td>\n",
       "      <td>T2E 6L6</td>\n",
       "      <td>24</td>\n",
       "      <td>4.0</td>\n",
       "      <td>AB</td>\n",
       "    </tr>\n",
       "    <tr>\n",
       "      <th>1</th>\n",
       "      <td></td>\n",
       "      <td>{'Alcohol': 'none', 'BikeParking': 'False', 'B...</td>\n",
       "      <td>AjEbIBw6ZFfln7ePHha9PA</td>\n",
       "      <td>Chicken Wings, Burgers, Caterers, Street Vendo...</td>\n",
       "      <td>Henderson</td>\n",
       "      <td>{'Friday': '17:0-23:0', 'Saturday': '17:0-23:0...</td>\n",
       "      <td>0</td>\n",
       "      <td>35.960734</td>\n",
       "      <td>-114.939821</td>\n",
       "      <td>CK'S BBQ &amp; Catering</td>\n",
       "      <td></td>\n",
       "      <td>89002</td>\n",
       "      <td>3</td>\n",
       "      <td>4.5</td>\n",
       "      <td>NV</td>\n",
       "    </tr>\n",
       "    <tr>\n",
       "      <th>2</th>\n",
       "      <td>1335 rue Beaubien E</td>\n",
       "      <td>{'Alcohol': 'beer_and_wine', 'Ambience': '{'ro...</td>\n",
       "      <td>O8S5hYJ1SMc8fA4QBtVujA</td>\n",
       "      <td>Breakfast &amp; Brunch, Restaurants, French, Sandw...</td>\n",
       "      <td>Montréal</td>\n",
       "      <td>{'Monday': '10:0-22:0', 'Tuesday': '10:0-22:0'...</td>\n",
       "      <td>0</td>\n",
       "      <td>45.540503</td>\n",
       "      <td>-73.599300</td>\n",
       "      <td>La Bastringue</td>\n",
       "      <td>Rosemont-La Petite-Patrie</td>\n",
       "      <td>H2G 1K7</td>\n",
       "      <td>5</td>\n",
       "      <td>4.0</td>\n",
       "      <td>QC</td>\n",
       "    </tr>\n",
       "    <tr>\n",
       "      <th>3</th>\n",
       "      <td>211 W Monroe St</td>\n",
       "      <td>None</td>\n",
       "      <td>bFzdJJ3wp3PZssNEsyU23g</td>\n",
       "      <td>Insurance, Financial Services</td>\n",
       "      <td>Phoenix</td>\n",
       "      <td>None</td>\n",
       "      <td>1</td>\n",
       "      <td>33.449999</td>\n",
       "      <td>-112.076979</td>\n",
       "      <td>Geico Insurance</td>\n",
       "      <td></td>\n",
       "      <td>85003</td>\n",
       "      <td>8</td>\n",
       "      <td>1.5</td>\n",
       "      <td>AZ</td>\n",
       "    </tr>\n",
       "    <tr>\n",
       "      <th>4</th>\n",
       "      <td>2005 Alyth Place SE</td>\n",
       "      <td>{'BusinessAcceptsCreditCards': 'True'}</td>\n",
       "      <td>8USyCYqpScwiNEb58Bt6CA</td>\n",
       "      <td>Home &amp; Garden, Nurseries &amp; Gardening, Shopping...</td>\n",
       "      <td>Calgary</td>\n",
       "      <td>{'Monday': '8:0-17:0', 'Tuesday': '8:0-17:0', ...</td>\n",
       "      <td>1</td>\n",
       "      <td>51.035591</td>\n",
       "      <td>-114.027366</td>\n",
       "      <td>Action Engine</td>\n",
       "      <td></td>\n",
       "      <td>T2H 0N5</td>\n",
       "      <td>4</td>\n",
       "      <td>2.0</td>\n",
       "      <td>AB</td>\n",
       "    </tr>\n",
       "  </tbody>\n",
       "</table>\n",
       "</div>"
      ],
      "text/plain": [
       "               address                                         attributes  \\\n",
       "0    1314 44 Avenue NE  {'BikeParking': 'False', 'BusinessAcceptsCredi...   \n",
       "1                       {'Alcohol': 'none', 'BikeParking': 'False', 'B...   \n",
       "2  1335 rue Beaubien E  {'Alcohol': 'beer_and_wine', 'Ambience': '{'ro...   \n",
       "3      211 W Monroe St                                               None   \n",
       "4  2005 Alyth Place SE             {'BusinessAcceptsCreditCards': 'True'}   \n",
       "\n",
       "              business_id                                         categories  \\\n",
       "0  Apn5Q_b6Nz61Tq4XzPdf9A  Tours, Breweries, Pizza, Restaurants, Food, Ho...   \n",
       "1  AjEbIBw6ZFfln7ePHha9PA  Chicken Wings, Burgers, Caterers, Street Vendo...   \n",
       "2  O8S5hYJ1SMc8fA4QBtVujA  Breakfast & Brunch, Restaurants, French, Sandw...   \n",
       "3  bFzdJJ3wp3PZssNEsyU23g                      Insurance, Financial Services   \n",
       "4  8USyCYqpScwiNEb58Bt6CA  Home & Garden, Nurseries & Gardening, Shopping...   \n",
       "\n",
       "        city                                              hours  is_open  \\\n",
       "0    Calgary  {'Monday': '8:30-17:0', 'Tuesday': '11:0-21:0'...        1   \n",
       "1  Henderson  {'Friday': '17:0-23:0', 'Saturday': '17:0-23:0...        0   \n",
       "2   Montréal  {'Monday': '10:0-22:0', 'Tuesday': '10:0-22:0'...        0   \n",
       "3    Phoenix                                               None        1   \n",
       "4    Calgary  {'Monday': '8:0-17:0', 'Tuesday': '8:0-17:0', ...        1   \n",
       "\n",
       "    latitude   longitude                  name               neighborhood  \\\n",
       "0  51.091813 -114.031675  Minhas Micro Brewery                              \n",
       "1  35.960734 -114.939821   CK'S BBQ & Catering                              \n",
       "2  45.540503  -73.599300         La Bastringue  Rosemont-La Petite-Patrie   \n",
       "3  33.449999 -112.076979       Geico Insurance                              \n",
       "4  51.035591 -114.027366         Action Engine                              \n",
       "\n",
       "  postal_code  review_count  stars state  \n",
       "0     T2E 6L6            24    4.0    AB  \n",
       "1       89002             3    4.5    NV  \n",
       "2     H2G 1K7             5    4.0    QC  \n",
       "3       85003             8    1.5    AZ  \n",
       "4     T2H 0N5             4    2.0    AB  "
      ]
     },
     "execution_count": 4,
     "metadata": {},
     "output_type": "execute_result"
    }
   ],
   "source": [
    "business_df.head()"
   ]
  },
  {
   "cell_type": "code",
   "execution_count": 5,
   "metadata": {},
   "outputs": [
    {
     "data": {
      "text/html": [
       "<div>\n",
       "<style scoped>\n",
       "    .dataframe tbody tr th:only-of-type {\n",
       "        vertical-align: middle;\n",
       "    }\n",
       "\n",
       "    .dataframe tbody tr th {\n",
       "        vertical-align: top;\n",
       "    }\n",
       "\n",
       "    .dataframe thead th {\n",
       "        text-align: right;\n",
       "    }\n",
       "</style>\n",
       "<table border=\"1\" class=\"dataframe\">\n",
       "  <thead>\n",
       "    <tr style=\"text-align: right;\">\n",
       "      <th></th>\n",
       "      <th>business_id</th>\n",
       "      <th>cool</th>\n",
       "      <th>date</th>\n",
       "      <th>funny</th>\n",
       "      <th>review_id</th>\n",
       "      <th>stars</th>\n",
       "      <th>text</th>\n",
       "      <th>useful</th>\n",
       "      <th>user_id</th>\n",
       "    </tr>\n",
       "  </thead>\n",
       "  <tbody>\n",
       "    <tr>\n",
       "      <th>0</th>\n",
       "      <td>iCQpiavjjPzJ5_3gPD5Ebg</td>\n",
       "      <td>0</td>\n",
       "      <td>2011-02-25</td>\n",
       "      <td>0</td>\n",
       "      <td>x7mDIiDB3jEiPGPHOmDzyw</td>\n",
       "      <td>2</td>\n",
       "      <td>The pizza was okay. Not the best I've had. I p...</td>\n",
       "      <td>0</td>\n",
       "      <td>msQe1u7Z_XuqjGoqhB0J5g</td>\n",
       "    </tr>\n",
       "    <tr>\n",
       "      <th>1</th>\n",
       "      <td>pomGBqfbxcqPv14c3XH-ZQ</td>\n",
       "      <td>0</td>\n",
       "      <td>2012-11-13</td>\n",
       "      <td>0</td>\n",
       "      <td>dDl8zu1vWPdKGihJrwQbpw</td>\n",
       "      <td>5</td>\n",
       "      <td>I love this place! My fiance And I go here atl...</td>\n",
       "      <td>0</td>\n",
       "      <td>msQe1u7Z_XuqjGoqhB0J5g</td>\n",
       "    </tr>\n",
       "    <tr>\n",
       "      <th>2</th>\n",
       "      <td>jtQARsP6P-LbkyjbO1qNGg</td>\n",
       "      <td>1</td>\n",
       "      <td>2014-10-23</td>\n",
       "      <td>1</td>\n",
       "      <td>LZp4UX5zK3e-c5ZGSeo3kA</td>\n",
       "      <td>1</td>\n",
       "      <td>Terrible. Dry corn bread. Rib tips were all fa...</td>\n",
       "      <td>3</td>\n",
       "      <td>msQe1u7Z_XuqjGoqhB0J5g</td>\n",
       "    </tr>\n",
       "    <tr>\n",
       "      <th>3</th>\n",
       "      <td>elqbBhBfElMNSrjFqW3now</td>\n",
       "      <td>0</td>\n",
       "      <td>2011-02-25</td>\n",
       "      <td>0</td>\n",
       "      <td>Er4NBWCmCD4nM8_p1GRdow</td>\n",
       "      <td>2</td>\n",
       "      <td>Back in 2005-2007 this place was my FAVORITE t...</td>\n",
       "      <td>2</td>\n",
       "      <td>msQe1u7Z_XuqjGoqhB0J5g</td>\n",
       "    </tr>\n",
       "    <tr>\n",
       "      <th>4</th>\n",
       "      <td>Ums3gaP2qM3W1XcA5r6SsQ</td>\n",
       "      <td>0</td>\n",
       "      <td>2014-09-05</td>\n",
       "      <td>0</td>\n",
       "      <td>jsDu6QEJHbwP2Blom1PLCA</td>\n",
       "      <td>5</td>\n",
       "      <td>Delicious healthy food. The steak is amazing. ...</td>\n",
       "      <td>0</td>\n",
       "      <td>msQe1u7Z_XuqjGoqhB0J5g</td>\n",
       "    </tr>\n",
       "  </tbody>\n",
       "</table>\n",
       "</div>"
      ],
      "text/plain": [
       "              business_id  cool        date  funny               review_id  \\\n",
       "0  iCQpiavjjPzJ5_3gPD5Ebg     0  2011-02-25      0  x7mDIiDB3jEiPGPHOmDzyw   \n",
       "1  pomGBqfbxcqPv14c3XH-ZQ     0  2012-11-13      0  dDl8zu1vWPdKGihJrwQbpw   \n",
       "2  jtQARsP6P-LbkyjbO1qNGg     1  2014-10-23      1  LZp4UX5zK3e-c5ZGSeo3kA   \n",
       "3  elqbBhBfElMNSrjFqW3now     0  2011-02-25      0  Er4NBWCmCD4nM8_p1GRdow   \n",
       "4  Ums3gaP2qM3W1XcA5r6SsQ     0  2014-09-05      0  jsDu6QEJHbwP2Blom1PLCA   \n",
       "\n",
       "   stars                                               text  useful  \\\n",
       "0      2  The pizza was okay. Not the best I've had. I p...       0   \n",
       "1      5  I love this place! My fiance And I go here atl...       0   \n",
       "2      1  Terrible. Dry corn bread. Rib tips were all fa...       3   \n",
       "3      2  Back in 2005-2007 this place was my FAVORITE t...       2   \n",
       "4      5  Delicious healthy food. The steak is amazing. ...       0   \n",
       "\n",
       "                  user_id  \n",
       "0  msQe1u7Z_XuqjGoqhB0J5g  \n",
       "1  msQe1u7Z_XuqjGoqhB0J5g  \n",
       "2  msQe1u7Z_XuqjGoqhB0J5g  \n",
       "3  msQe1u7Z_XuqjGoqhB0J5g  \n",
       "4  msQe1u7Z_XuqjGoqhB0J5g  "
      ]
     },
     "execution_count": 5,
     "metadata": {},
     "output_type": "execute_result"
    }
   ],
   "source": [
    "review_df.head()"
   ]
  },
  {
   "cell_type": "code",
   "execution_count": 6,
   "metadata": {},
   "outputs": [
    {
     "data": {
      "text/html": [
       "<div>\n",
       "<style scoped>\n",
       "    .dataframe tbody tr th:only-of-type {\n",
       "        vertical-align: middle;\n",
       "    }\n",
       "\n",
       "    .dataframe tbody tr th {\n",
       "        vertical-align: top;\n",
       "    }\n",
       "\n",
       "    .dataframe thead th {\n",
       "        text-align: right;\n",
       "    }\n",
       "</style>\n",
       "<table border=\"1\" class=\"dataframe\">\n",
       "  <thead>\n",
       "    <tr style=\"text-align: right;\">\n",
       "      <th></th>\n",
       "      <th>average_stars</th>\n",
       "      <th>compliment_cool</th>\n",
       "      <th>compliment_cute</th>\n",
       "      <th>compliment_funny</th>\n",
       "      <th>compliment_hot</th>\n",
       "      <th>compliment_list</th>\n",
       "      <th>compliment_more</th>\n",
       "      <th>compliment_note</th>\n",
       "      <th>compliment_photos</th>\n",
       "      <th>compliment_plain</th>\n",
       "      <th>...</th>\n",
       "      <th>cool</th>\n",
       "      <th>elite</th>\n",
       "      <th>fans</th>\n",
       "      <th>friends</th>\n",
       "      <th>funny</th>\n",
       "      <th>name</th>\n",
       "      <th>review_count</th>\n",
       "      <th>useful</th>\n",
       "      <th>user_id</th>\n",
       "      <th>yelping_since</th>\n",
       "    </tr>\n",
       "  </thead>\n",
       "  <tbody>\n",
       "    <tr>\n",
       "      <th>0</th>\n",
       "      <td>2.00</td>\n",
       "      <td>0</td>\n",
       "      <td>0</td>\n",
       "      <td>0</td>\n",
       "      <td>0</td>\n",
       "      <td>0</td>\n",
       "      <td>0</td>\n",
       "      <td>0</td>\n",
       "      <td>0</td>\n",
       "      <td>0</td>\n",
       "      <td>...</td>\n",
       "      <td>0</td>\n",
       "      <td>None</td>\n",
       "      <td>0</td>\n",
       "      <td>None</td>\n",
       "      <td>0</td>\n",
       "      <td>Susan</td>\n",
       "      <td>1</td>\n",
       "      <td>0</td>\n",
       "      <td>lzlZwIpuSWXEnNS91wxjHw</td>\n",
       "      <td>2015-09-28</td>\n",
       "    </tr>\n",
       "    <tr>\n",
       "      <th>1</th>\n",
       "      <td>5.00</td>\n",
       "      <td>0</td>\n",
       "      <td>0</td>\n",
       "      <td>0</td>\n",
       "      <td>0</td>\n",
       "      <td>0</td>\n",
       "      <td>0</td>\n",
       "      <td>0</td>\n",
       "      <td>0</td>\n",
       "      <td>0</td>\n",
       "      <td>...</td>\n",
       "      <td>0</td>\n",
       "      <td>None</td>\n",
       "      <td>0</td>\n",
       "      <td>None</td>\n",
       "      <td>0</td>\n",
       "      <td>Daipayan</td>\n",
       "      <td>2</td>\n",
       "      <td>0</td>\n",
       "      <td>XvLBr-9smbI0m_a7dXtB7w</td>\n",
       "      <td>2015-09-05</td>\n",
       "    </tr>\n",
       "    <tr>\n",
       "      <th>2</th>\n",
       "      <td>4.00</td>\n",
       "      <td>0</td>\n",
       "      <td>0</td>\n",
       "      <td>0</td>\n",
       "      <td>0</td>\n",
       "      <td>0</td>\n",
       "      <td>0</td>\n",
       "      <td>0</td>\n",
       "      <td>0</td>\n",
       "      <td>0</td>\n",
       "      <td>...</td>\n",
       "      <td>0</td>\n",
       "      <td>None</td>\n",
       "      <td>0</td>\n",
       "      <td>None</td>\n",
       "      <td>0</td>\n",
       "      <td>Andy</td>\n",
       "      <td>1</td>\n",
       "      <td>0</td>\n",
       "      <td>QPT4Ud4H5sJVr68yXhoWFw</td>\n",
       "      <td>2016-07-21</td>\n",
       "    </tr>\n",
       "    <tr>\n",
       "      <th>3</th>\n",
       "      <td>4.05</td>\n",
       "      <td>0</td>\n",
       "      <td>0</td>\n",
       "      <td>0</td>\n",
       "      <td>0</td>\n",
       "      <td>0</td>\n",
       "      <td>0</td>\n",
       "      <td>0</td>\n",
       "      <td>0</td>\n",
       "      <td>0</td>\n",
       "      <td>...</td>\n",
       "      <td>0</td>\n",
       "      <td>None</td>\n",
       "      <td>0</td>\n",
       "      <td>None</td>\n",
       "      <td>0</td>\n",
       "      <td>Jonathan</td>\n",
       "      <td>19</td>\n",
       "      <td>0</td>\n",
       "      <td>i5YitlHZpf0B3R0s_8NVuw</td>\n",
       "      <td>2014-08-04</td>\n",
       "    </tr>\n",
       "    <tr>\n",
       "      <th>4</th>\n",
       "      <td>3.00</td>\n",
       "      <td>0</td>\n",
       "      <td>0</td>\n",
       "      <td>0</td>\n",
       "      <td>0</td>\n",
       "      <td>0</td>\n",
       "      <td>0</td>\n",
       "      <td>0</td>\n",
       "      <td>0</td>\n",
       "      <td>0</td>\n",
       "      <td>...</td>\n",
       "      <td>0</td>\n",
       "      <td>None</td>\n",
       "      <td>0</td>\n",
       "      <td>None</td>\n",
       "      <td>0</td>\n",
       "      <td>Shashank</td>\n",
       "      <td>3</td>\n",
       "      <td>0</td>\n",
       "      <td>s4FoIXE_LSGviTHBe8dmcg</td>\n",
       "      <td>2017-06-18</td>\n",
       "    </tr>\n",
       "  </tbody>\n",
       "</table>\n",
       "<p>5 rows × 22 columns</p>\n",
       "</div>"
      ],
      "text/plain": [
       "   average_stars  compliment_cool  compliment_cute  compliment_funny  \\\n",
       "0           2.00                0                0                 0   \n",
       "1           5.00                0                0                 0   \n",
       "2           4.00                0                0                 0   \n",
       "3           4.05                0                0                 0   \n",
       "4           3.00                0                0                 0   \n",
       "\n",
       "   compliment_hot  compliment_list  compliment_more  compliment_note  \\\n",
       "0               0                0                0                0   \n",
       "1               0                0                0                0   \n",
       "2               0                0                0                0   \n",
       "3               0                0                0                0   \n",
       "4               0                0                0                0   \n",
       "\n",
       "   compliment_photos  compliment_plain      ...        cool  elite  fans  \\\n",
       "0                  0                 0      ...           0   None     0   \n",
       "1                  0                 0      ...           0   None     0   \n",
       "2                  0                 0      ...           0   None     0   \n",
       "3                  0                 0      ...           0   None     0   \n",
       "4                  0                 0      ...           0   None     0   \n",
       "\n",
       "  friends  funny      name  review_count useful                 user_id  \\\n",
       "0    None      0     Susan             1      0  lzlZwIpuSWXEnNS91wxjHw   \n",
       "1    None      0  Daipayan             2      0  XvLBr-9smbI0m_a7dXtB7w   \n",
       "2    None      0      Andy             1      0  QPT4Ud4H5sJVr68yXhoWFw   \n",
       "3    None      0  Jonathan            19      0  i5YitlHZpf0B3R0s_8NVuw   \n",
       "4    None      0  Shashank             3      0  s4FoIXE_LSGviTHBe8dmcg   \n",
       "\n",
       "   yelping_since  \n",
       "0     2015-09-28  \n",
       "1     2015-09-05  \n",
       "2     2016-07-21  \n",
       "3     2014-08-04  \n",
       "4     2017-06-18  \n",
       "\n",
       "[5 rows x 22 columns]"
      ]
     },
     "execution_count": 6,
     "metadata": {},
     "output_type": "execute_result"
    }
   ],
   "source": [
    "user_df.head()"
   ]
  },
  {
   "cell_type": "code",
   "execution_count": 7,
   "metadata": {},
   "outputs": [
    {
     "data": {
      "text/html": [
       "<div>\n",
       "<style scoped>\n",
       "    .dataframe tbody tr th:only-of-type {\n",
       "        vertical-align: middle;\n",
       "    }\n",
       "\n",
       "    .dataframe tbody tr th {\n",
       "        vertical-align: top;\n",
       "    }\n",
       "\n",
       "    .dataframe thead th {\n",
       "        text-align: right;\n",
       "    }\n",
       "</style>\n",
       "<table border=\"1\" class=\"dataframe\">\n",
       "  <thead>\n",
       "    <tr style=\"text-align: right;\">\n",
       "      <th></th>\n",
       "      <th>business_id</th>\n",
       "      <th>time</th>\n",
       "    </tr>\n",
       "  </thead>\n",
       "  <tbody>\n",
       "    <tr>\n",
       "      <th>0</th>\n",
       "      <td>7KPBkxAOEtb3QeIL9PEErg</td>\n",
       "      <td>{'Fri-0': 2, 'Sat-0': 1, 'Sun-0': 1, 'Wed-0': ...</td>\n",
       "    </tr>\n",
       "    <tr>\n",
       "      <th>1</th>\n",
       "      <td>kREVIrSBbtqBhIYkTccQUg</td>\n",
       "      <td>{'Mon-13': 1, 'Thu-13': 1, 'Sat-16': 1, 'Wed-1...</td>\n",
       "    </tr>\n",
       "    <tr>\n",
       "      <th>2</th>\n",
       "      <td>tJRDll5yqpZwehenzE2cSg</td>\n",
       "      <td>{'Thu-0': 1, 'Mon-1': 1, 'Mon-12': 1, 'Sat-16'...</td>\n",
       "    </tr>\n",
       "    <tr>\n",
       "      <th>3</th>\n",
       "      <td>tZccfdl6JNw-j5BKnCTIQQ</td>\n",
       "      <td>{'Sun-14': 1, 'Fri-18': 1, 'Mon-20': 1}</td>\n",
       "    </tr>\n",
       "    <tr>\n",
       "      <th>4</th>\n",
       "      <td>r1p7RAMzCV_6NPF0dNoR3g</td>\n",
       "      <td>{'Sat-3': 1, 'Sun-18': 1, 'Sat-21': 1, 'Sat-23...</td>\n",
       "    </tr>\n",
       "  </tbody>\n",
       "</table>\n",
       "</div>"
      ],
      "text/plain": [
       "              business_id                                               time\n",
       "0  7KPBkxAOEtb3QeIL9PEErg  {'Fri-0': 2, 'Sat-0': 1, 'Sun-0': 1, 'Wed-0': ...\n",
       "1  kREVIrSBbtqBhIYkTccQUg  {'Mon-13': 1, 'Thu-13': 1, 'Sat-16': 1, 'Wed-1...\n",
       "2  tJRDll5yqpZwehenzE2cSg  {'Thu-0': 1, 'Mon-1': 1, 'Mon-12': 1, 'Sat-16'...\n",
       "3  tZccfdl6JNw-j5BKnCTIQQ            {'Sun-14': 1, 'Fri-18': 1, 'Mon-20': 1}\n",
       "4  r1p7RAMzCV_6NPF0dNoR3g  {'Sat-3': 1, 'Sun-18': 1, 'Sat-21': 1, 'Sat-23..."
      ]
     },
     "execution_count": 7,
     "metadata": {},
     "output_type": "execute_result"
    }
   ],
   "source": [
    "checkin_df.head()"
   ]
  },
  {
   "cell_type": "markdown",
   "metadata": {},
   "source": [
    "## Subsetting dataset for our purpose of analysis"
   ]
  },
  {
   "cell_type": "code",
   "execution_count": 8,
   "metadata": {},
   "outputs": [],
   "source": [
    "trt_business_df = business_df[business_df['city'] == 'Toronto']"
   ]
  },
  {
   "cell_type": "code",
   "execution_count": 9,
   "metadata": {},
   "outputs": [
    {
     "data": {
      "text/html": [
       "<div>\n",
       "<style scoped>\n",
       "    .dataframe tbody tr th:only-of-type {\n",
       "        vertical-align: middle;\n",
       "    }\n",
       "\n",
       "    .dataframe tbody tr th {\n",
       "        vertical-align: top;\n",
       "    }\n",
       "\n",
       "    .dataframe thead th {\n",
       "        text-align: right;\n",
       "    }\n",
       "</style>\n",
       "<table border=\"1\" class=\"dataframe\">\n",
       "  <thead>\n",
       "    <tr style=\"text-align: right;\">\n",
       "      <th></th>\n",
       "      <th>address</th>\n",
       "      <th>attributes</th>\n",
       "      <th>business_id</th>\n",
       "      <th>categories</th>\n",
       "      <th>city</th>\n",
       "      <th>hours</th>\n",
       "      <th>is_open</th>\n",
       "      <th>latitude</th>\n",
       "      <th>longitude</th>\n",
       "      <th>name</th>\n",
       "      <th>neighborhood</th>\n",
       "      <th>postal_code</th>\n",
       "      <th>review_count</th>\n",
       "      <th>stars</th>\n",
       "      <th>state</th>\n",
       "    </tr>\n",
       "  </thead>\n",
       "  <tbody>\n",
       "    <tr>\n",
       "      <th>6</th>\n",
       "      <td>631 Bloor St W</td>\n",
       "      <td>{'BusinessParking': '{'garage': False, 'street...</td>\n",
       "      <td>9A2quhZLyWk0akUetBd8hQ</td>\n",
       "      <td>Food, Bakeries</td>\n",
       "      <td>Toronto</td>\n",
       "      <td>None</td>\n",
       "      <td>0</td>\n",
       "      <td>43.664378</td>\n",
       "      <td>-79.414424</td>\n",
       "      <td>Bnc Cake House</td>\n",
       "      <td>Koreatown</td>\n",
       "      <td>M6G 1K8</td>\n",
       "      <td>7</td>\n",
       "      <td>4.0</td>\n",
       "      <td>ON</td>\n",
       "    </tr>\n",
       "    <tr>\n",
       "      <th>11</th>\n",
       "      <td>595 Markham Street</td>\n",
       "      <td>{'Alcohol': 'full_bar', 'Ambience': '{'romanti...</td>\n",
       "      <td>tZnSodhPwNr4bzrwJ1CSbw</td>\n",
       "      <td>Cajun/Creole, Southern, Restaurants</td>\n",
       "      <td>Toronto</td>\n",
       "      <td>{'Tuesday': '17:0-1:0', 'Wednesday': '17:0-1:0...</td>\n",
       "      <td>0</td>\n",
       "      <td>43.664125</td>\n",
       "      <td>-79.411886</td>\n",
       "      <td>Southern Accent Restaurant</td>\n",
       "      <td>Palmerston</td>\n",
       "      <td>M6G 2L7</td>\n",
       "      <td>146</td>\n",
       "      <td>4.0</td>\n",
       "      <td>ON</td>\n",
       "    </tr>\n",
       "    <tr>\n",
       "      <th>23</th>\n",
       "      <td>746 Street Clair Avenue W</td>\n",
       "      <td>{'BikeParking': 'True', 'BusinessAcceptsCredit...</td>\n",
       "      <td>5J3b7j3Fzo9ISjChmoUoUA</td>\n",
       "      <td>Food, Bakeries, Coffee &amp; Tea</td>\n",
       "      <td>Toronto</td>\n",
       "      <td>{'Monday': '7:30-19:0', 'Tuesday': '7:30-19:0'...</td>\n",
       "      <td>1</td>\n",
       "      <td>43.681328</td>\n",
       "      <td>-79.427884</td>\n",
       "      <td>Mabel's Bakery</td>\n",
       "      <td>Wychwood</td>\n",
       "      <td>M6C 1B5</td>\n",
       "      <td>23</td>\n",
       "      <td>4.0</td>\n",
       "      <td>ON</td>\n",
       "    </tr>\n",
       "    <tr>\n",
       "      <th>27</th>\n",
       "      <td>99 Yorkville Avenue</td>\n",
       "      <td>{'Ambience': '{'romantic': False, 'intimate': ...</td>\n",
       "      <td>PMDlKLd0Mxj0ngCpuUmE5Q</td>\n",
       "      <td>Restaurants, Food, Canadian (New), Coffee &amp; Tea</td>\n",
       "      <td>Toronto</td>\n",
       "      <td>None</td>\n",
       "      <td>0</td>\n",
       "      <td>43.670885</td>\n",
       "      <td>-79.392379</td>\n",
       "      <td>The Coffee Mill Restaurant</td>\n",
       "      <td>Yorkville</td>\n",
       "      <td>M5R 3K5</td>\n",
       "      <td>25</td>\n",
       "      <td>3.5</td>\n",
       "      <td>ON</td>\n",
       "    </tr>\n",
       "    <tr>\n",
       "      <th>43</th>\n",
       "      <td>3280 Kingston Road</td>\n",
       "      <td>None</td>\n",
       "      <td>zHwXoh40k86P0aiN1aix9Q</td>\n",
       "      <td>Hotels, Hotels &amp; Travel, Event Planning &amp; Serv...</td>\n",
       "      <td>Toronto</td>\n",
       "      <td>None</td>\n",
       "      <td>1</td>\n",
       "      <td>43.733395</td>\n",
       "      <td>-79.224206</td>\n",
       "      <td>Super 8 by Wyndham Toronto East ON</td>\n",
       "      <td>Scarborough</td>\n",
       "      <td>M1M 1P8</td>\n",
       "      <td>3</td>\n",
       "      <td>2.0</td>\n",
       "      <td>ON</td>\n",
       "    </tr>\n",
       "  </tbody>\n",
       "</table>\n",
       "</div>"
      ],
      "text/plain": [
       "                      address  \\\n",
       "6              631 Bloor St W   \n",
       "11         595 Markham Street   \n",
       "23  746 Street Clair Avenue W   \n",
       "27        99 Yorkville Avenue   \n",
       "43         3280 Kingston Road   \n",
       "\n",
       "                                           attributes             business_id  \\\n",
       "6   {'BusinessParking': '{'garage': False, 'street...  9A2quhZLyWk0akUetBd8hQ   \n",
       "11  {'Alcohol': 'full_bar', 'Ambience': '{'romanti...  tZnSodhPwNr4bzrwJ1CSbw   \n",
       "23  {'BikeParking': 'True', 'BusinessAcceptsCredit...  5J3b7j3Fzo9ISjChmoUoUA   \n",
       "27  {'Ambience': '{'romantic': False, 'intimate': ...  PMDlKLd0Mxj0ngCpuUmE5Q   \n",
       "43                                               None  zHwXoh40k86P0aiN1aix9Q   \n",
       "\n",
       "                                           categories     city  \\\n",
       "6                                      Food, Bakeries  Toronto   \n",
       "11                Cajun/Creole, Southern, Restaurants  Toronto   \n",
       "23                       Food, Bakeries, Coffee & Tea  Toronto   \n",
       "27    Restaurants, Food, Canadian (New), Coffee & Tea  Toronto   \n",
       "43  Hotels, Hotels & Travel, Event Planning & Serv...  Toronto   \n",
       "\n",
       "                                                hours  is_open   latitude  \\\n",
       "6                                                None        0  43.664378   \n",
       "11  {'Tuesday': '17:0-1:0', 'Wednesday': '17:0-1:0...        0  43.664125   \n",
       "23  {'Monday': '7:30-19:0', 'Tuesday': '7:30-19:0'...        1  43.681328   \n",
       "27                                               None        0  43.670885   \n",
       "43                                               None        1  43.733395   \n",
       "\n",
       "    longitude                                name neighborhood postal_code  \\\n",
       "6  -79.414424                      Bnc Cake House    Koreatown     M6G 1K8   \n",
       "11 -79.411886          Southern Accent Restaurant   Palmerston     M6G 2L7   \n",
       "23 -79.427884                      Mabel's Bakery     Wychwood     M6C 1B5   \n",
       "27 -79.392379          The Coffee Mill Restaurant    Yorkville     M5R 3K5   \n",
       "43 -79.224206  Super 8 by Wyndham Toronto East ON  Scarborough     M1M 1P8   \n",
       "\n",
       "    review_count  stars state  \n",
       "6              7    4.0    ON  \n",
       "11           146    4.0    ON  \n",
       "23            23    4.0    ON  \n",
       "27            25    3.5    ON  \n",
       "43             3    2.0    ON  "
      ]
     },
     "execution_count": 9,
     "metadata": {},
     "output_type": "execute_result"
    }
   ],
   "source": [
    "trt_business_df.head()"
   ]
  },
  {
   "cell_type": "code",
   "execution_count": 10,
   "metadata": {},
   "outputs": [],
   "source": [
    "## perform one-hot encoding on business categories\n",
    "trt_business_categories = trt_business_df['categories'].str.get_dummies(', ')"
   ]
  },
  {
   "cell_type": "code",
   "execution_count": 11,
   "metadata": {},
   "outputs": [
    {
     "name": "stdout",
     "output_type": "stream",
     "text": [
      "Index(['& Probates', '3D Printing', 'Acai Bowls', 'Accessories', 'Accountants',\n",
      "       'Acne Treatment', 'Active Life', 'Acupuncture', 'Adult',\n",
      "       'Adult Education',\n",
      "       ...\n",
      "       'Wine & Spirits', 'Wine Bars', 'Wine Tasting Classes', 'Wine Tours',\n",
      "       'Wineries', 'Women's Clothing', 'Wraps', 'Yelp Events', 'Yoga', 'Zoos'],\n",
      "      dtype='object', length=890)\n"
     ]
    }
   ],
   "source": [
    "print(trt_business_categories.columns)"
   ]
  },
  {
   "cell_type": "code",
   "execution_count": 12,
   "metadata": {},
   "outputs": [],
   "source": [
    "## only keep businesses which have 'Restaurants' in categories \n",
    "## (ignored other related categories such as 'Food', 'Bakeries', etc.)\n",
    "trt_resaurant_df = trt_business_df[trt_business_categories['Restaurants'] > 0]"
   ]
  },
  {
   "cell_type": "markdown",
   "metadata": {},
   "source": [
    "## Find most popular restaurants based on number of checkins"
   ]
  },
  {
   "cell_type": "markdown",
   "metadata": {},
   "source": [
    "**popular** *[attributive]* (of cultural activities or products) intended for or suited to the taste, understanding, or means of the general public rather than specialists or intellectuals. --Oxford Dictionary"
   ]
  },
  {
   "cell_type": "code",
   "execution_count": 13,
   "metadata": {},
   "outputs": [],
   "source": [
    "## Find the total number of checkins for all businesses\n",
    "checkin_df['total_checkins'] = list(map(lambda x: sum(x.values()), checkin_df['time']))"
   ]
  },
  {
   "cell_type": "code",
   "execution_count": 14,
   "metadata": {},
   "outputs": [
    {
     "data": {
      "text/html": [
       "<div>\n",
       "<style scoped>\n",
       "    .dataframe tbody tr th:only-of-type {\n",
       "        vertical-align: middle;\n",
       "    }\n",
       "\n",
       "    .dataframe tbody tr th {\n",
       "        vertical-align: top;\n",
       "    }\n",
       "\n",
       "    .dataframe thead th {\n",
       "        text-align: right;\n",
       "    }\n",
       "</style>\n",
       "<table border=\"1\" class=\"dataframe\">\n",
       "  <thead>\n",
       "    <tr style=\"text-align: right;\">\n",
       "      <th></th>\n",
       "      <th>business_id</th>\n",
       "      <th>time</th>\n",
       "      <th>total_checkins</th>\n",
       "    </tr>\n",
       "  </thead>\n",
       "  <tbody>\n",
       "    <tr>\n",
       "      <th>0</th>\n",
       "      <td>7KPBkxAOEtb3QeIL9PEErg</td>\n",
       "      <td>{'Fri-0': 2, 'Sat-0': 1, 'Sun-0': 1, 'Wed-0': ...</td>\n",
       "      <td>151</td>\n",
       "    </tr>\n",
       "    <tr>\n",
       "      <th>1</th>\n",
       "      <td>kREVIrSBbtqBhIYkTccQUg</td>\n",
       "      <td>{'Mon-13': 1, 'Thu-13': 1, 'Sat-16': 1, 'Wed-1...</td>\n",
       "      <td>7</td>\n",
       "    </tr>\n",
       "    <tr>\n",
       "      <th>2</th>\n",
       "      <td>tJRDll5yqpZwehenzE2cSg</td>\n",
       "      <td>{'Thu-0': 1, 'Mon-1': 1, 'Mon-12': 1, 'Sat-16'...</td>\n",
       "      <td>6</td>\n",
       "    </tr>\n",
       "    <tr>\n",
       "      <th>3</th>\n",
       "      <td>tZccfdl6JNw-j5BKnCTIQQ</td>\n",
       "      <td>{'Sun-14': 1, 'Fri-18': 1, 'Mon-20': 1}</td>\n",
       "      <td>3</td>\n",
       "    </tr>\n",
       "    <tr>\n",
       "      <th>4</th>\n",
       "      <td>r1p7RAMzCV_6NPF0dNoR3g</td>\n",
       "      <td>{'Sat-3': 1, 'Sun-18': 1, 'Sat-21': 1, 'Sat-23...</td>\n",
       "      <td>5</td>\n",
       "    </tr>\n",
       "  </tbody>\n",
       "</table>\n",
       "</div>"
      ],
      "text/plain": [
       "              business_id                                               time  \\\n",
       "0  7KPBkxAOEtb3QeIL9PEErg  {'Fri-0': 2, 'Sat-0': 1, 'Sun-0': 1, 'Wed-0': ...   \n",
       "1  kREVIrSBbtqBhIYkTccQUg  {'Mon-13': 1, 'Thu-13': 1, 'Sat-16': 1, 'Wed-1...   \n",
       "2  tJRDll5yqpZwehenzE2cSg  {'Thu-0': 1, 'Mon-1': 1, 'Mon-12': 1, 'Sat-16'...   \n",
       "3  tZccfdl6JNw-j5BKnCTIQQ            {'Sun-14': 1, 'Fri-18': 1, 'Mon-20': 1}   \n",
       "4  r1p7RAMzCV_6NPF0dNoR3g  {'Sat-3': 1, 'Sun-18': 1, 'Sat-21': 1, 'Sat-23...   \n",
       "\n",
       "   total_checkins  \n",
       "0             151  \n",
       "1               7  \n",
       "2               6  \n",
       "3               3  \n",
       "4               5  "
      ]
     },
     "execution_count": 14,
     "metadata": {},
     "output_type": "execute_result"
    }
   ],
   "source": [
    "checkin_df.head()"
   ]
  },
  {
   "cell_type": "code",
   "execution_count": 15,
   "metadata": {},
   "outputs": [],
   "source": [
    "popular_restaurants = pd.merge(trt_resaurant_df, checkin_df, on='business_id', how='left')"
   ]
  },
  {
   "cell_type": "code",
   "execution_count": 16,
   "metadata": {},
   "outputs": [],
   "source": [
    "popular_restaurants = popular_restaurants.sort_values(by='total_checkins', ascending=False)\n",
    "popular_restaurants = popular_restaurants[['name', 'review_count', 'stars', 'total_checkins']]"
   ]
  },
  {
   "cell_type": "code",
   "execution_count": 17,
   "metadata": {},
   "outputs": [
    {
     "data": {
      "text/html": [
       "<div>\n",
       "<style scoped>\n",
       "    .dataframe tbody tr th:only-of-type {\n",
       "        vertical-align: middle;\n",
       "    }\n",
       "\n",
       "    .dataframe tbody tr th {\n",
       "        vertical-align: top;\n",
       "    }\n",
       "\n",
       "    .dataframe thead th {\n",
       "        text-align: right;\n",
       "    }\n",
       "</style>\n",
       "<table border=\"1\" class=\"dataframe\">\n",
       "  <thead>\n",
       "    <tr style=\"text-align: right;\">\n",
       "      <th></th>\n",
       "      <th>name</th>\n",
       "      <th>review_count</th>\n",
       "      <th>stars</th>\n",
       "      <th>total_checkins</th>\n",
       "    </tr>\n",
       "  </thead>\n",
       "  <tbody>\n",
       "    <tr>\n",
       "      <th>2814</th>\n",
       "      <td>Pai Northern Thai Kitchen</td>\n",
       "      <td>1837</td>\n",
       "      <td>4.5</td>\n",
       "      <td>2550.0</td>\n",
       "    </tr>\n",
       "    <tr>\n",
       "      <th>3983</th>\n",
       "      <td>Insomnia Restaurant &amp; Lounge</td>\n",
       "      <td>741</td>\n",
       "      <td>4.0</td>\n",
       "      <td>2095.0</td>\n",
       "    </tr>\n",
       "    <tr>\n",
       "      <th>1172</th>\n",
       "      <td>Pearl Diver</td>\n",
       "      <td>484</td>\n",
       "      <td>4.0</td>\n",
       "      <td>2076.0</td>\n",
       "    </tr>\n",
       "    <tr>\n",
       "      <th>4598</th>\n",
       "      <td>Banh Mi Boys</td>\n",
       "      <td>999</td>\n",
       "      <td>4.5</td>\n",
       "      <td>1759.0</td>\n",
       "    </tr>\n",
       "    <tr>\n",
       "      <th>2358</th>\n",
       "      <td>Salad King Restaurant</td>\n",
       "      <td>855</td>\n",
       "      <td>3.5</td>\n",
       "      <td>1649.0</td>\n",
       "    </tr>\n",
       "    <tr>\n",
       "      <th>2419</th>\n",
       "      <td>Sansotei Ramen</td>\n",
       "      <td>762</td>\n",
       "      <td>4.0</td>\n",
       "      <td>1627.0</td>\n",
       "    </tr>\n",
       "    <tr>\n",
       "      <th>1783</th>\n",
       "      <td>KINKA IZAKAYA ORIGINAL</td>\n",
       "      <td>1306</td>\n",
       "      <td>4.0</td>\n",
       "      <td>1627.0</td>\n",
       "    </tr>\n",
       "    <tr>\n",
       "      <th>4663</th>\n",
       "      <td>Hokkaido Ramen Santouka</td>\n",
       "      <td>713</td>\n",
       "      <td>4.0</td>\n",
       "      <td>1625.0</td>\n",
       "    </tr>\n",
       "    <tr>\n",
       "      <th>1106</th>\n",
       "      <td>Khao San Road</td>\n",
       "      <td>1336</td>\n",
       "      <td>4.0</td>\n",
       "      <td>1467.0</td>\n",
       "    </tr>\n",
       "    <tr>\n",
       "      <th>4054</th>\n",
       "      <td>Seven Lives Tacos Y Mariscos</td>\n",
       "      <td>1048</td>\n",
       "      <td>4.5</td>\n",
       "      <td>1442.0</td>\n",
       "    </tr>\n",
       "  </tbody>\n",
       "</table>\n",
       "</div>"
      ],
      "text/plain": [
       "                              name  review_count  stars  total_checkins\n",
       "2814     Pai Northern Thai Kitchen          1837    4.5          2550.0\n",
       "3983  Insomnia Restaurant & Lounge           741    4.0          2095.0\n",
       "1172                   Pearl Diver           484    4.0          2076.0\n",
       "4598                  Banh Mi Boys           999    4.5          1759.0\n",
       "2358         Salad King Restaurant           855    3.5          1649.0\n",
       "2419                Sansotei Ramen           762    4.0          1627.0\n",
       "1783        KINKA IZAKAYA ORIGINAL          1306    4.0          1627.0\n",
       "4663       Hokkaido Ramen Santouka           713    4.0          1625.0\n",
       "1106                 Khao San Road          1336    4.0          1467.0\n",
       "4054  Seven Lives Tacos Y Mariscos          1048    4.5          1442.0"
      ]
     },
     "execution_count": 17,
     "metadata": {},
     "output_type": "execute_result"
    }
   ],
   "source": [
    "## Display Top 10 restaurants with higest popularity\n",
    "popular_restaurants.head(10)"
   ]
  },
  {
   "cell_type": "markdown",
   "metadata": {},
   "source": [
    "## How many Canadian residents reviewed the business “Mon Ami Gabi” in last 1 year?"
   ]
  },
  {
   "cell_type": "code",
   "execution_count": 18,
   "metadata": {},
   "outputs": [
    {
     "data": {
      "text/plain": [
       "137635    4JNXUYY8wbaaDmk3BPzlWw\n",
       "Name: business_id, dtype: object"
      ]
     },
     "execution_count": 18,
     "metadata": {},
     "output_type": "execute_result"
    }
   ],
   "source": [
    "## Find the business_id of \"Mon Ami Gabi\"\n",
    "gabi_id = business_df[business_df['name'] == \"Mon Ami Gabi\"]['business_id']\n",
    "gabi_id"
   ]
  },
  {
   "cell_type": "code",
   "execution_count": 19,
   "metadata": {},
   "outputs": [],
   "source": [
    "## Since there is only one “Mon Ami Gabi”, we only need to\n",
    "## consider one particular business id\n",
    "gabi_id = gabi_id.iloc[0]"
   ]
  },
  {
   "cell_type": "markdown",
   "metadata": {},
   "source": [
    "We do not have information about the residency of reviewers from \n",
    "provided datasets. However, we can infer that a reviewer is a canadian\n",
    "resident if more than 70% of his/her reviews are on canadian businesses. "
   ]
  },
  {
   "cell_type": "code",
   "execution_count": 20,
   "metadata": {},
   "outputs": [],
   "source": [
    "## list of canadian provinces\n",
    "canadian_prov = ['ON', 'QC', 'NS', 'NB', 'MB', 'BC', 'PE', 'SK' \\\n",
    "                 'AB', 'NL']"
   ]
  },
  {
   "cell_type": "code",
   "execution_count": 21,
   "metadata": {},
   "outputs": [],
   "source": [
    "## subset businesses on canadian provinces\n",
    "ca_business_df = business_df[business_df['state'].isin(canadian_prov)]\n",
    "ca_business_id = list(ca_business_df['business_id'])"
   ]
  },
  {
   "cell_type": "code",
   "execution_count": 24,
   "metadata": {},
   "outputs": [],
   "source": [
    "## find ids of all users made a least one review\n",
    "reviewer_id = pd.Series(review_df['user_id']).unique()"
   ]
  },
  {
   "cell_type": "code",
   "execution_count": 26,
   "metadata": {},
   "outputs": [],
   "source": [
    "## To avoid the string comparison overhead, create dummy id for user\n",
    "review_df.sort_values(by='user_id', inplace=True)"
   ]
  },
  {
   "cell_type": "code",
   "execution_count": 28,
   "metadata": {},
   "outputs": [],
   "source": [
    "## Make a dummy variable which index user_id\n",
    "id_list = list(review_df['user_id'])\n",
    "dummy = [0] * len(review_df)\n",
    "last = None\n",
    "counter = -1\n",
    "for i in range(len(dummy)):\n",
    "    current = id_list[i]\n",
    "    if current != last:\n",
    "        counter += 1\n",
    "    dummy[i] = counter\n",
    "    last = current"
   ]
  },
  {
   "cell_type": "code",
   "execution_count": 29,
   "metadata": {},
   "outputs": [],
   "source": [
    "review_df['dummy_user_id'] = dummy\n",
    "reviewer_id.sort()"
   ]
  },
  {
   "cell_type": "code",
   "execution_count": 39,
   "metadata": {},
   "outputs": [],
   "source": [
    "## subset reviews on canadian businesses\n",
    "ca_review_df = review_df[review_df['business_id'].isin(ca_business_id)]"
   ]
  },
  {
   "cell_type": "code",
   "execution_count": 94,
   "metadata": {},
   "outputs": [
    {
     "name": "stdout",
     "output_type": "stream",
     "text": [
      "0.007783174514770508\n"
     ]
    }
   ],
   "source": [
    "import time\n",
    "start = time.time()\n",
    "##np.count_nonzero is much faster than doing sum\n",
    "np.count_nonzero(ca_review_df['dummy_user_id'] == 0)\n",
    "np.count_nonzero(review_df['dummy_user_id'] == 0)\n",
    "end = time.time()\n",
    "print(end - start)"
   ]
  },
  {
   "cell_type": "code",
   "execution_count": 95,
   "metadata": {},
   "outputs": [
    {
     "name": "stdout",
     "output_type": "stream",
     "text": [
      "Following code takes around 3.282270630531841 hours to run\n"
     ]
    }
   ],
   "source": [
    "print(\"Following code takes around {} hours to run\".format((end - start) \\\n",
    "                                                           * len(reviewer_id) / 60 / 60))"
   ]
  },
  {
   "cell_type": "code",
   "execution_count": 97,
   "metadata": {},
   "outputs": [],
   "source": [
    "## find canadian residents base on their reviews\n",
    "## (This takes lots of time to run, total time is estimated above for a signle thread)\n",
    "ca_resident_dummy_id = []\n",
    "start = time.time()\n",
    "for i in range(len(reviewer_id)):\n",
    "    confidency = np.count_nonzero(ca_review_df['dummy_user_id'] == i) / \\\n",
    "                 np.count_nonzero(review_df['dummy_user_id'] == i)\n",
    "    if confidency > 0.7:\n",
    "        ca_resident_dummy_id.append(i)\n",
    "end = time.time()"
   ]
  },
  {
   "cell_type": "code",
   "execution_count": 98,
   "metadata": {},
   "outputs": [
    {
     "name": "stdout",
     "output_type": "stream",
     "text": [
      "8391.154323101044\n"
     ]
    }
   ],
   "source": [
    "print(end - start)"
   ]
  },
  {
   "cell_type": "code",
   "execution_count": 99,
   "metadata": {},
   "outputs": [],
   "source": [
    "gabi_review = review_df[review_df['business_id'] == gabi_id]"
   ]
  },
  {
   "cell_type": "code",
   "execution_count": 100,
   "metadata": {},
   "outputs": [],
   "source": [
    "## subset gabi_review for last 1 year\n",
    "gabi_review = gabi_review[('2018-08-13' > gabi_review['date']) & (gabi_review['date'] > '2017-08-13')]"
   ]
  },
  {
   "cell_type": "code",
   "execution_count": 101,
   "metadata": {},
   "outputs": [
    {
     "name": "stdout",
     "output_type": "stream",
     "text": [
      "11\n"
     ]
    }
   ],
   "source": [
    "## compute the number of Canadian residents reviewed on Gabi last year\n",
    "print (len(gabi_review[gabi_review['dummy_user_id'].\\\n",
    "                       isin(ca_resident_dummy_id)]['dummy_user_id'].unique()))"
   ]
  },
  {
   "cell_type": "markdown",
   "metadata": {},
   "source": [
    "## Top 10 most common words in the reviews of the business “Chipotle Mexican Grill”"
   ]
  },
  {
   "cell_type": "code",
   "execution_count": 62,
   "metadata": {},
   "outputs": [],
   "source": [
    "## Find the business_id of \"Chipotle Mexican Grill\"\n",
    "chipotle_id_list = list(business_df[business_df['name'] == \"Chipotle Mexican Grill\"]['business_id'])"
   ]
  },
  {
   "cell_type": "code",
   "execution_count": 64,
   "metadata": {},
   "outputs": [],
   "source": [
    "## Subset reviews on list of business ids\n",
    "chipotle_review = review_df[review_df['business_id'].isin(chipotle_id_list)]"
   ]
  },
  {
   "cell_type": "code",
   "execution_count": 68,
   "metadata": {},
   "outputs": [],
   "source": [
    "chipotle_review_text = list(chipotle_review['text'])"
   ]
  },
  {
   "cell_type": "code",
   "execution_count": 86,
   "metadata": {},
   "outputs": [],
   "source": [
    "from nltk import word_tokenize\n",
    "from nltk.corpus import stopwords\n",
    "from string import punctuation\n",
    "## convert stop words list to set since list is slow\n",
    "stop_words = set(stopwords.words(\"english\") + list(punctuation))"
   ]
  },
  {
   "cell_type": "code",
   "execution_count": 107,
   "metadata": {},
   "outputs": [],
   "source": [
    "## obtain a list of words for all reviews, filering out stopwords\n",
    "review_words_list = []\n",
    "for t in chipotle_review_text:\n",
    "    words = word_tokenize(t.lower())\n",
    "    for w in words:\n",
    "        if w not in stop_words:\n",
    "            review_words_list.append(w)    "
   ]
  },
  {
   "cell_type": "code",
   "execution_count": 108,
   "metadata": {},
   "outputs": [],
   "source": [
    "from collections import Counter\n",
    "review_words_counter = Counter(review_words_list)"
   ]
  },
  {
   "cell_type": "code",
   "execution_count": 109,
   "metadata": {},
   "outputs": [],
   "source": [
    "review_words_df = pd.DataFrame.from_dict(review_words_counter, \\\n",
    "                                         orient='index').reset_index()\n",
    "review_words_df.columns = ['word', 'frequency']"
   ]
  },
  {
   "cell_type": "code",
   "execution_count": 110,
   "metadata": {},
   "outputs": [],
   "source": [
    "review_words_df.sort_values(by='frequency', \\\n",
    "                            ascending=False, inplace=True)"
   ]
  },
  {
   "cell_type": "code",
   "execution_count": 113,
   "metadata": {},
   "outputs": [
    {
     "data": {
      "text/html": [
       "<div>\n",
       "<style scoped>\n",
       "    .dataframe tbody tr th:only-of-type {\n",
       "        vertical-align: middle;\n",
       "    }\n",
       "\n",
       "    .dataframe tbody tr th {\n",
       "        vertical-align: top;\n",
       "    }\n",
       "\n",
       "    .dataframe thead th {\n",
       "        text-align: right;\n",
       "    }\n",
       "</style>\n",
       "<table border=\"1\" class=\"dataframe\">\n",
       "  <thead>\n",
       "    <tr style=\"text-align: right;\">\n",
       "      <th></th>\n",
       "      <th>word</th>\n",
       "      <th>frequency</th>\n",
       "    </tr>\n",
       "  </thead>\n",
       "  <tbody>\n",
       "    <tr>\n",
       "      <th>4</th>\n",
       "      <td>chipotle</td>\n",
       "      <td>8460</td>\n",
       "    </tr>\n",
       "    <tr>\n",
       "      <th>53</th>\n",
       "      <td>food</td>\n",
       "      <td>6754</td>\n",
       "    </tr>\n",
       "    <tr>\n",
       "      <th>10</th>\n",
       "      <td>n't</td>\n",
       "      <td>6512</td>\n",
       "    </tr>\n",
       "    <tr>\n",
       "      <th>129</th>\n",
       "      <td>'s</td>\n",
       "      <td>5062</td>\n",
       "    </tr>\n",
       "    <tr>\n",
       "      <th>56</th>\n",
       "      <td>location</td>\n",
       "      <td>4546</td>\n",
       "    </tr>\n",
       "    <tr>\n",
       "      <th>5</th>\n",
       "      <td>burrito</td>\n",
       "      <td>3859</td>\n",
       "    </tr>\n",
       "    <tr>\n",
       "      <th>123</th>\n",
       "      <td>get</td>\n",
       "      <td>3564</td>\n",
       "    </tr>\n",
       "    <tr>\n",
       "      <th>19</th>\n",
       "      <td>one</td>\n",
       "      <td>3464</td>\n",
       "    </tr>\n",
       "    <tr>\n",
       "      <th>204</th>\n",
       "      <td>time</td>\n",
       "      <td>3359</td>\n",
       "    </tr>\n",
       "    <tr>\n",
       "      <th>39</th>\n",
       "      <td>like</td>\n",
       "      <td>3292</td>\n",
       "    </tr>\n",
       "  </tbody>\n",
       "</table>\n",
       "</div>"
      ],
      "text/plain": [
       "         word  frequency\n",
       "4    chipotle       8460\n",
       "53       food       6754\n",
       "10        n't       6512\n",
       "129        's       5062\n",
       "56   location       4546\n",
       "5     burrito       3859\n",
       "123       get       3564\n",
       "19        one       3464\n",
       "204      time       3359\n",
       "39       like       3292"
      ]
     },
     "execution_count": 113,
     "metadata": {},
     "output_type": "execute_result"
    }
   ],
   "source": [
    "## Print top 10 words and frequencies\n",
    "review_words_df.head(10)"
   ]
  },
  {
   "cell_type": "markdown",
   "metadata": {},
   "source": [
    "## Find percentage of users, who reviewed “Mon Ami Gabi”, and also reviewed at least 10 other restaurants located in Ontario"
   ]
  },
  {
   "cell_type": "code",
   "execution_count": 20,
   "metadata": {},
   "outputs": [],
   "source": [
    "## Find the business_id of \"Mon Ami Gabi\"\n",
    "gabi_id = business_df[business_df['name'] == \"Mon Ami Gabi\"]['business_id'].iloc[0]"
   ]
  },
  {
   "cell_type": "code",
   "execution_count": 21,
   "metadata": {},
   "outputs": [],
   "source": [
    "## Find the unique users who reviewed \"Mon Ami Gabi\", assume tip is also kind of review\n",
    "user_gabi = list(review_df['user_id'][review_df['business_id'] == gabi_id]) + \\\n",
    "            list(tip_df['user_id'][tip_df['business_id'] == gabi_id].values)\n",
    "user_gabi = pd.Series(user_gabi).unique()"
   ]
  },
  {
   "cell_type": "code",
   "execution_count": 22,
   "metadata": {},
   "outputs": [],
   "source": [
    "## Find ontario restaurants\n",
    "on_business_df = business_df[business_df['state'] == 'ON']\n",
    "on_restaurants_df = on_business_df[on_business_df['categories'].str.contains('Restaurants') == True]"
   ]
  },
  {
   "cell_type": "code",
   "execution_count": 23,
   "metadata": {},
   "outputs": [
    {
     "data": {
      "text/html": [
       "<div>\n",
       "<style scoped>\n",
       "    .dataframe tbody tr th:only-of-type {\n",
       "        vertical-align: middle;\n",
       "    }\n",
       "\n",
       "    .dataframe tbody tr th {\n",
       "        vertical-align: top;\n",
       "    }\n",
       "\n",
       "    .dataframe thead th {\n",
       "        text-align: right;\n",
       "    }\n",
       "</style>\n",
       "<table border=\"1\" class=\"dataframe\">\n",
       "  <thead>\n",
       "    <tr style=\"text-align: right;\">\n",
       "      <th></th>\n",
       "      <th>address</th>\n",
       "      <th>attributes</th>\n",
       "      <th>business_id</th>\n",
       "      <th>categories</th>\n",
       "      <th>city</th>\n",
       "      <th>hours</th>\n",
       "      <th>is_open</th>\n",
       "      <th>latitude</th>\n",
       "      <th>longitude</th>\n",
       "      <th>name</th>\n",
       "      <th>neighborhood</th>\n",
       "      <th>postal_code</th>\n",
       "      <th>review_count</th>\n",
       "      <th>stars</th>\n",
       "      <th>state</th>\n",
       "    </tr>\n",
       "  </thead>\n",
       "  <tbody>\n",
       "    <tr>\n",
       "      <th>7</th>\n",
       "      <td>3417 Derry Road E, Unit 103</td>\n",
       "      <td>{'Alcohol': 'none', 'BusinessAcceptsCreditCard...</td>\n",
       "      <td>6OuOZAok8ikONMS_T3EzXg</td>\n",
       "      <td>Restaurants, Thai</td>\n",
       "      <td>Mississauga</td>\n",
       "      <td>None</td>\n",
       "      <td>1</td>\n",
       "      <td>43.712946</td>\n",
       "      <td>-79.632763</td>\n",
       "      <td>Thai One On</td>\n",
       "      <td>Ridgewood</td>\n",
       "      <td>L4T 1A8</td>\n",
       "      <td>7</td>\n",
       "      <td>2.0</td>\n",
       "      <td>ON</td>\n",
       "    </tr>\n",
       "    <tr>\n",
       "      <th>10</th>\n",
       "      <td>4568 Highway 7 E</td>\n",
       "      <td>{'GoodForKids': 'True', 'NoiseLevel': 'loud', ...</td>\n",
       "      <td>KapTdGyGs7RK0c68Z6hhhg</td>\n",
       "      <td>Restaurants, Japanese</td>\n",
       "      <td>Markham</td>\n",
       "      <td>{'Monday': '11:30-23:0', 'Tuesday': '11:30-23:...</td>\n",
       "      <td>0</td>\n",
       "      <td>43.862484</td>\n",
       "      <td>-79.306960</td>\n",
       "      <td>Sushi 8</td>\n",
       "      <td>Unionville</td>\n",
       "      <td>L3R 1M5</td>\n",
       "      <td>12</td>\n",
       "      <td>1.5</td>\n",
       "      <td>ON</td>\n",
       "    </tr>\n",
       "    <tr>\n",
       "      <th>11</th>\n",
       "      <td>595 Markham Street</td>\n",
       "      <td>{'Alcohol': 'full_bar', 'Ambience': '{'romanti...</td>\n",
       "      <td>tZnSodhPwNr4bzrwJ1CSbw</td>\n",
       "      <td>Cajun/Creole, Southern, Restaurants</td>\n",
       "      <td>Toronto</td>\n",
       "      <td>{'Tuesday': '17:0-1:0', 'Wednesday': '17:0-1:0...</td>\n",
       "      <td>0</td>\n",
       "      <td>43.664125</td>\n",
       "      <td>-79.411886</td>\n",
       "      <td>Southern Accent Restaurant</td>\n",
       "      <td>Palmerston</td>\n",
       "      <td>M6G 2L7</td>\n",
       "      <td>146</td>\n",
       "      <td>4.0</td>\n",
       "      <td>ON</td>\n",
       "    </tr>\n",
       "    <tr>\n",
       "      <th>27</th>\n",
       "      <td>99 Yorkville Avenue</td>\n",
       "      <td>{'Ambience': '{'romantic': False, 'intimate': ...</td>\n",
       "      <td>PMDlKLd0Mxj0ngCpuUmE5Q</td>\n",
       "      <td>Restaurants, Food, Canadian (New), Coffee &amp; Tea</td>\n",
       "      <td>Toronto</td>\n",
       "      <td>None</td>\n",
       "      <td>0</td>\n",
       "      <td>43.670885</td>\n",
       "      <td>-79.392379</td>\n",
       "      <td>The Coffee Mill Restaurant</td>\n",
       "      <td>Yorkville</td>\n",
       "      <td>M5R 3K5</td>\n",
       "      <td>25</td>\n",
       "      <td>3.5</td>\n",
       "      <td>ON</td>\n",
       "    </tr>\n",
       "    <tr>\n",
       "      <th>53</th>\n",
       "      <td>788 Wilson Avenue</td>\n",
       "      <td>{'BusinessAcceptsCreditCards': 'False', 'GoodF...</td>\n",
       "      <td>Be7Mwq06nf1eNLblo1ekow</td>\n",
       "      <td>Bakeries, Food, Latin American, Restaurants, S...</td>\n",
       "      <td>North York</td>\n",
       "      <td>None</td>\n",
       "      <td>1</td>\n",
       "      <td>43.731316</td>\n",
       "      <td>-79.465133</td>\n",
       "      <td>La Rosa Chilena</td>\n",
       "      <td>Downsview</td>\n",
       "      <td>M3K 1E2</td>\n",
       "      <td>5</td>\n",
       "      <td>2.5</td>\n",
       "      <td>ON</td>\n",
       "    </tr>\n",
       "  </tbody>\n",
       "</table>\n",
       "</div>"
      ],
      "text/plain": [
       "                        address  \\\n",
       "7   3417 Derry Road E, Unit 103   \n",
       "10             4568 Highway 7 E   \n",
       "11           595 Markham Street   \n",
       "27          99 Yorkville Avenue   \n",
       "53            788 Wilson Avenue   \n",
       "\n",
       "                                           attributes             business_id  \\\n",
       "7   {'Alcohol': 'none', 'BusinessAcceptsCreditCard...  6OuOZAok8ikONMS_T3EzXg   \n",
       "10  {'GoodForKids': 'True', 'NoiseLevel': 'loud', ...  KapTdGyGs7RK0c68Z6hhhg   \n",
       "11  {'Alcohol': 'full_bar', 'Ambience': '{'romanti...  tZnSodhPwNr4bzrwJ1CSbw   \n",
       "27  {'Ambience': '{'romantic': False, 'intimate': ...  PMDlKLd0Mxj0ngCpuUmE5Q   \n",
       "53  {'BusinessAcceptsCreditCards': 'False', 'GoodF...  Be7Mwq06nf1eNLblo1ekow   \n",
       "\n",
       "                                           categories         city  \\\n",
       "7                                   Restaurants, Thai  Mississauga   \n",
       "10                              Restaurants, Japanese      Markham   \n",
       "11                Cajun/Creole, Southern, Restaurants      Toronto   \n",
       "27    Restaurants, Food, Canadian (New), Coffee & Tea      Toronto   \n",
       "53  Bakeries, Food, Latin American, Restaurants, S...   North York   \n",
       "\n",
       "                                                hours  is_open   latitude  \\\n",
       "7                                                None        1  43.712946   \n",
       "10  {'Monday': '11:30-23:0', 'Tuesday': '11:30-23:...        0  43.862484   \n",
       "11  {'Tuesday': '17:0-1:0', 'Wednesday': '17:0-1:0...        0  43.664125   \n",
       "27                                               None        0  43.670885   \n",
       "53                                               None        1  43.731316   \n",
       "\n",
       "    longitude                        name neighborhood postal_code  \\\n",
       "7  -79.632763                 Thai One On    Ridgewood     L4T 1A8   \n",
       "10 -79.306960                     Sushi 8   Unionville     L3R 1M5   \n",
       "11 -79.411886  Southern Accent Restaurant   Palmerston     M6G 2L7   \n",
       "27 -79.392379  The Coffee Mill Restaurant    Yorkville     M5R 3K5   \n",
       "53 -79.465133             La Rosa Chilena    Downsview     M3K 1E2   \n",
       "\n",
       "    review_count  stars state  \n",
       "7              7    2.0    ON  \n",
       "10            12    1.5    ON  \n",
       "11           146    4.0    ON  \n",
       "27            25    3.5    ON  \n",
       "53             5    2.5    ON  "
      ]
     },
     "execution_count": 23,
     "metadata": {},
     "output_type": "execute_result"
    }
   ],
   "source": [
    "on_restaurants_df.head()"
   ]
  },
  {
   "cell_type": "code",
   "execution_count": 24,
   "metadata": {},
   "outputs": [],
   "source": [
    "review_and_tip = pd.concat([review_df[['business_id', 'user_id']], \\\n",
    "                            tip_df[['business_id', 'user_id']]], ignore_index=True)"
   ]
  },
  {
   "cell_type": "code",
   "execution_count": 25,
   "metadata": {},
   "outputs": [],
   "source": [
    "## Pull all reviews done by users who reviewed \"Mon Ami Gabi\"\n",
    "user_gabi = pd.DataFrame(pd.Series(user_gabi, name='user_id'))\n",
    "review_all_user_gabi = pd.merge(user_gabi, review_and_tip, on='user_id', how='left')"
   ]
  },
  {
   "cell_type": "code",
   "execution_count": 26,
   "metadata": {},
   "outputs": [],
   "source": [
    "## Subset reviews by restaurants located in ontario\n",
    "review_on_user_gabi = pd.merge(on_restaurants_df[['business_id', 'name', 'city']], \\\n",
    "                               review_all_user_gabi, on='business_id', how='inner')"
   ]
  },
  {
   "cell_type": "code",
   "execution_count": 27,
   "metadata": {},
   "outputs": [],
   "source": [
    "review_on_user_gabi['review_count'] = 1\n",
    "review_on_user_gabi_count = review_on_user_gabi.groupby('user_id').sum()['review_count']"
   ]
  },
  {
   "cell_type": "code",
   "execution_count": 28,
   "metadata": {},
   "outputs": [],
   "source": [
    "qualified_user_num = sum(review_on_user_gabi_count >= 10)"
   ]
  },
  {
   "cell_type": "code",
   "execution_count": 29,
   "metadata": {},
   "outputs": [
    {
     "name": "stdout",
     "output_type": "stream",
     "text": [
      "0.737%\n"
     ]
    }
   ],
   "source": [
    "## Compute the percentage of users who reviewed “Mon Ami Gabi”, and also reviewed at\n",
    "## least 10 other restaurants located in Ontario\n",
    "print(\"{0:.3%}\".format(qualified_user_num / user_gabi.size))"
   ]
  },
  {
   "cell_type": "markdown",
   "metadata": {},
   "source": [
    "## Two more analytics which provide insights and help existing/future Business Owners​"
   ]
  },
  {
   "cell_type": "markdown",
   "metadata": {},
   "source": [
    "1. Ratings and text review of 'Elite' users. 'Elite' users can be users who has most friend connections/most reviews/most reviews considered as useful or cool\n",
    "2. Correlation between business atrributes and ratings. Business arrtibutes are for example, bike parking, car parking, credit card acceptence, has alcohol berverage etc."
   ]
  },
  {
   "cell_type": "markdown",
   "metadata": {},
   "source": [
    "#### 1.We will define 'Elite' users as users who have most fans (top 100)"
   ]
  },
  {
   "cell_type": "code",
   "execution_count": 18,
   "metadata": {},
   "outputs": [
    {
     "data": {
      "text/plain": [
       "True"
      ]
     },
     "execution_count": 18,
     "metadata": {},
     "output_type": "execute_result"
    }
   ],
   "source": [
    "## Check to see if all user id in user table match all user id in review table\n",
    "set(user_df['user_id']) == set(review_df['user_id'])"
   ]
  },
  {
   "cell_type": "code",
   "execution_count": 19,
   "metadata": {},
   "outputs": [
    {
     "data": {
      "text/plain": [
       "True"
      ]
     },
     "execution_count": 19,
     "metadata": {},
     "output_type": "execute_result"
    }
   ],
   "source": [
    "## Check to see if all business id in business table match all business id in review table\n",
    "set(business_df['business_id']) == set(review_df['business_id'])"
   ]
  },
  {
   "cell_type": "code",
   "execution_count": 23,
   "metadata": {},
   "outputs": [],
   "source": [
    "## Create dummy ids for quick matching\n",
    "business_df.sort_values(by='business_id', inplace=True)\n",
    "business_df['dummy_business_id'] = range(business_df.shape[0])\n",
    "\n",
    "user_df.sort_values(by='user_id', inplace=True)\n",
    "user_df['dummy_user_id'] = range(user_df.shape[0])"
   ]
  },
  {
   "cell_type": "code",
   "execution_count": 28,
   "metadata": {},
   "outputs": [],
   "source": [
    "## Make dummy ids for review tables\n",
    "review_df.sort_values(by='business_id', inplace=True)\n",
    "id_list = list(review_df['business_id'])\n",
    "dummy = [0] * len(review_df)\n",
    "last = None\n",
    "counter = -1\n",
    "for i in range(len(dummy)):\n",
    "    current = id_list[i]\n",
    "    if current != last:\n",
    "        counter += 1\n",
    "    dummy[i] = counter\n",
    "    last = current\n",
    "\n",
    "review_df['dummy_business_id'] = dummy\n",
    "\n",
    "review_df.sort_values(by='user_id', inplace=True)\n",
    "id_list = list(review_df['user_id'])\n",
    "dummy = [0] * len(review_df)\n",
    "last = None\n",
    "counter = -1\n",
    "for i in range(len(dummy)):\n",
    "    current = id_list[i]\n",
    "    if current != last:\n",
    "        counter += 1\n",
    "    dummy[i] = counter\n",
    "    last = current\n",
    "\n",
    "review_df['dummy_user_id'] = dummy"
   ]
  },
  {
   "cell_type": "code",
   "execution_count": 37,
   "metadata": {},
   "outputs": [],
   "source": [
    "elite_user = user_df.sort_values(by='fans', ascending=False)['dummy_user_id'].head(100)\n",
    "elite_review_df = review_df[review_df['dummy_user_id'].isin(list(elite_user))]"
   ]
  },
  {
   "cell_type": "code",
   "execution_count": 50,
   "metadata": {},
   "outputs": [],
   "source": [
    "business_rating_df = business_df[['stars', 'dummy_business_id']]\n",
    "business_rating_df.columns = ['business_stars', 'dummy_business_id']"
   ]
  },
  {
   "cell_type": "code",
   "execution_count": 54,
   "metadata": {},
   "outputs": [],
   "source": [
    "elite_review_df = pd.merge(elite_review_df, business_rating_df, on='dummy_business_id', how='left')"
   ]
  },
  {
   "cell_type": "code",
   "execution_count": 69,
   "metadata": {},
   "outputs": [
    {
     "name": "stdout",
     "output_type": "stream",
     "text": [
      "0.6912349014621741\n"
     ]
    }
   ],
   "source": [
    "## Compute mean squared error between rating of elite users and actual rating\n",
    "elite_rating_MSE = mean_squared_error(elite_review_df['business_stars'], elite_review_df['stars'])\n",
    "print(elite_rating_MSE)"
   ]
  },
  {
   "cell_type": "code",
   "execution_count": 84,
   "metadata": {},
   "outputs": [],
   "source": [
    "## Instead of elite users, we radomly draw 100 users and compute MSE (1000 draws)\n",
    "sample_rating_MSE = [0] * 1000\n",
    "for i in range(1000):\n",
    "    sample_user = user_df.iloc[np.random.choice(len(user_df), 100, replace=False)]['dummy_user_id']\n",
    "    sample_review_df = review_df[review_df['dummy_user_id'].isin(list(sample_user))]\n",
    "    sample_review_df = pd.merge(sample_review_df, business_rating_df, on='dummy_business_id', how='left')\n",
    "    sample_rating_MSE[i] = mean_squared_error(sample_review_df['business_stars'], sample_review_df['stars'])"
   ]
  },
  {
   "cell_type": "code",
   "execution_count": 93,
   "metadata": {},
   "outputs": [
    {
     "data": {
      "image/png": "[encoded data removed]",
      "text/plain": [
       "<Figure size 432x288 with 1 Axes>"
      ]
     },
     "metadata": {},
     "output_type": "display_data"
    }
   ],
   "source": [
    "plt.hist(sample_rating_MSE, bins='auto')  # arguments are passed to np.histogram\n",
    "plt.title(\"Distribution of Mean Square Error of sample user ratings and business ratings\")\n",
    "plt.axvline(x=elite_rating_MSE, color='red')\n",
    "plt.show()"
   ]
  },
  {
   "cell_type": "markdown",
   "metadata": {},
   "source": [
    "From the graph we can see that the ratings from elite users have great preditive power in predicting the actual bussiness rating. We can then deduce that the comments from those users can be very informative for business owners."
   ]
  },
  {
   "cell_type": "code",
   "execution_count": 151,
   "metadata": {},
   "outputs": [
    {
     "name": "stdout",
     "output_type": "stream",
     "text": [
      "12584\n"
     ]
    }
   ],
   "source": [
    "## This time we randomly draw same numeber of reviews as in elite user reviews\n",
    "num_review = len(elite_review_df)\n",
    "print(num_review)"
   ]
  },
  {
   "cell_type": "code",
   "execution_count": 153,
   "metadata": {},
   "outputs": [],
   "source": [
    "## Instead of elite users, we radomly draw 100 users and compute MSE (1000 draws)\n",
    "sample_rating_MSE_2 = [0] * 1000\n",
    "for i in range(1000):\n",
    "    sample_review_df = review_df.iloc[np.random.choice(len(review_df), num_review, replace=False)]\n",
    "    sample_review_df = pd.merge(sample_review_df, business_rating_df, on='dummy_business_id', how='left')\n",
    "    sample_rating_MSE_2[i] = mean_squared_error(sample_review_df['business_stars'], sample_review_df['stars'])"
   ]
  },
  {
   "cell_type": "code",
   "execution_count": 154,
   "metadata": {},
   "outputs": [
    {
     "data": {
      "image/png": "[encoded data removed]",
      "text/plain": [
       "<Figure size 432x288 with 1 Axes>"
      ]
     },
     "metadata": {},
     "output_type": "display_data"
    }
   ],
   "source": [
    "plt.hist(sample_rating_MSE_2, bins='auto')  # arguments are passed to np.histogram\n",
    "plt.title(\"Distribution of Mean Square Error of sample user ratings and business ratings\")\n",
    "plt.axvline(x=elite_rating_MSE, color='red')\n",
    "plt.show()"
   ]
  },
  {
   "cell_type": "markdown",
   "metadata": {},
   "source": [
    "#### We want to know if the existence of parking lot has impact on rating of a business"
   ]
  },
  {
   "cell_type": "code",
   "execution_count": 130,
   "metadata": {},
   "outputs": [],
   "source": [
    "parking_flag = [False] * len(business_df)\n",
    "for i in range(len(business_df)):\n",
    "    try:\n",
    "        if 'true' in business_df['attributes'].iloc[i]['BusinessParking'].lower():\n",
    "            parking_flag[i] = True\n",
    "    except (KeyError, TypeError):\n",
    "        continue"
   ]
  },
  {
   "cell_type": "code",
   "execution_count": 140,
   "metadata": {},
   "outputs": [],
   "source": [
    "business_df['has_parking'] = parking_flag\n",
    "business_with_parking = business_df[business_df['has_parking'] == True]\n",
    "business_without_parking = business_df[business_df['has_parking'] == False]"
   ]
  },
  {
   "cell_type": "code",
   "execution_count": 139,
   "metadata": {},
   "outputs": [
    {
     "name": "stdout",
     "output_type": "stream",
     "text": [
      "Around 32.01% of businesses has parking available\n"
     ]
    }
   ],
   "source": [
    "print(\"Around {0:.2%} of businesses has parking available\".format(len(business_with_parking) / len(business_df)))"
   ]
  },
  {
   "cell_type": "code",
   "execution_count": 146,
   "metadata": {},
   "outputs": [
    {
     "name": "stdout",
     "output_type": "stream",
     "text": [
      "3.7284684833926947\n",
      "3.5859250709673396\n"
     ]
    }
   ],
   "source": [
    "print(business_with_parking['stars'].mean())\n",
    "print(business_without_parking['stars'].mean())"
   ]
  },
  {
   "cell_type": "code",
   "execution_count": 144,
   "metadata": {},
   "outputs": [
    {
     "data": {
      "image/png": "[encoded data removed]",
      "text/plain": [
       "<Figure size 432x288 with 1 Axes>"
      ]
     },
     "metadata": {},
     "output_type": "display_data"
    }
   ],
   "source": [
    "plt.hist(business_with_parking['stars'], bins='auto')  # arguments are passed to np.histogram\n",
    "plt.title(\"Distribution of ratings for businesses with parking\")\n",
    "plt.axvline(x=business_with_parking['stars'].mean(), color='red')\n",
    "plt.show()"
   ]
  },
  {
   "cell_type": "code",
   "execution_count": 148,
   "metadata": {},
   "outputs": [
    {
     "data": {
      "image/png": "[encoded data removed]",
      "text/plain": [
       "<Figure size 432x288 with 1 Axes>"
      ]
     },
     "metadata": {},
     "output_type": "display_data"
    }
   ],
   "source": [
    "plt.hist(business_without_parking['stars'], bins='auto')  # arguments are passed to np.histogram\n",
    "plt.title(\"Distribution of ratings for businesses without parking\")\n",
    "plt.axvline(x=business_without_parking['stars'].mean(), color='red')\n",
    "plt.show()"
   ]
  },
  {
   "cell_type": "markdown",
   "metadata": {},
   "source": [
    "We can see that businesses with parking lots available has slightly higher average ratings than those without parking lots. We can also see from the histogram that ratings for businesses with parking lots have lower variance."
   ]
  },
  {
   "cell_type": "code",
   "execution_count": null,
   "metadata": {},
   "outputs": [],
   "source": []
  }
 ],
 "metadata": {
  "kernelspec": {
   "display_name": "Python 3",
   "language": "python",
   "name": "python3"
  },
  "language_info": {
   "codemirror_mode": {
    "name": "ipython",
    "version": 3
   },
   "file_extension": ".py",
   "mimetype": "text/x-python",
   "name": "python",
   "nbconvert_exporter": "python",
   "pygments_lexer": "ipython3",
   "version": "3.6.5"
  }
 },
 "nbformat": 4,
 "nbformat_minor": 2
}
